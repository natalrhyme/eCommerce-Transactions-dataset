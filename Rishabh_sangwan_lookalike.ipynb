{
  "nbformat": 4,
  "nbformat_minor": 0,
  "metadata": {
    "colab": {
      "provenance": [],
      "authorship_tag": "ABX9TyMpGt7g9MJhlzkm3+5lkKi4",
      "include_colab_link": true
    },
    "kernelspec": {
      "name": "python3",
      "display_name": "Python 3"
    },
    "language_info": {
      "name": "python"
    }
  },
  "cells": [
    {
      "cell_type": "markdown",
      "metadata": {
        "id": "view-in-github",
        "colab_type": "text"
      },
      "source": [
        "<a href=\"https://colab.research.google.com/github/natalrhyme/eCommerce-Transactions-dataset/blob/main/Rishabh_sangwan_lookalike.ipynb\" target=\"_parent\"><img src=\"https://colab.research.google.com/assets/colab-badge.svg\" alt=\"Open In Colab\"/></a>"
      ]
    },
    {
      "cell_type": "code",
      "execution_count": null,
      "metadata": {
        "id": "fhIMIGf-Wshe"
      },
      "outputs": [],
      "source": [
        "import pandas as pd\n",
        "from sklearn.feature_extraction.text import TfidfVectorizer\n",
        "from sklearn.metrics.pairwise import cosine_similarity\n",
        "\n",
        "customers = pd.read_csv(\"Customers.csv\")\n",
        "products = pd.read_csv(\"Products.csv\")\n",
        "transactions = pd.read_csv(\"Transactions.csv\")\n",
        "\n",
        "merged_data = transactions.merge(customers, on=\"CustomerID\", how=\"left\").merge(products, on=\"ProductID\", how=\"left\")\n",
        "\n",
        "# Create a customer-level profile\n",
        "customer_profiles = merged_data.groupby(\"CustomerID\").agg({\n",
        "    \"Region\": lambda x: x.iloc[0],\n",
        "    \"ProductName\": lambda x: ' '.join(x),  # Concatenate all product names purchased\n",
        "    \"TotalValue\": \"sum\"\n",
        "}).reset_index()\n",
        "\n",
        "customer_profiles[\"Profile\"] = customer_profiles[\"Region\"] + \" \" + customer_profiles[\"ProductName\"]\n",
        "\n",
        "vectorizer = TfidfVectorizer()\n",
        "profile_matrix = vectorizer.fit_transform(customer_profiles[\"Profile\"])\n",
        "\n",
        "similarity_matrix = cosine_similarity(profile_matrix)\n",
        "\n",
        "# Extract the top 3 similar customers for each of the first 20 customers\n",
        "lookalikes = {}\n",
        "customer_ids = customer_profiles[\"CustomerID\"].values\n",
        "for i, cust_id in enumerate(customer_ids[:20]):\n",
        "    similarity_scores = list(enumerate(similarity_matrix[i]))\n",
        "    similar_customers = sorted(similarity_scores, key=lambda x: x[1], reverse=True)\n",
        "    top_3 = [(customer_ids[j], score) for j, score in similar_customers[1:4]]  # Skip self-comparison\n",
        "    lookalikes[cust_id] = top_3\n",
        "\n",
        "# Save lookalikes to Lookalike.csv\n",
        "lookalike_data = []\n",
        "for cust_id, similars in lookalikes.items():\n",
        "    for similar_cust, score in similars:\n",
        "        lookalike_data.append({\"cust_id\": cust_id, \"similar_cust\": similar_cust, \"score\": score})\n",
        "\n",
        "lookalike_df = pd.DataFrame(lookalike_data)\n",
        "lookalike_df.to_csv(\"Lookalike.csv\", index=False)\n"
      ]
    }
  ]
}